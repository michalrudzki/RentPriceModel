{
 "cells": [
  {
   "cell_type": "code",
   "execution_count": 21,
   "metadata": {},
   "outputs": [],
   "source": [
    "import pandas as pd\n",
    "import numpy as np\n",
    "from sklearn.preprocessing import LabelEncoder\n",
    "from sklearn.preprocessing import OneHotEncoder\n",
    "import warnings\n",
    "\n",
    "warnings.filterwarnings(\"ignore\")"
   ]
  },
  {
   "cell_type": "code",
   "execution_count": 12,
   "metadata": {},
   "outputs": [],
   "source": [
    "data = pd.read_csv('Wynajem20190215-19:20.csv',sep='#')"
   ]
  },
  {
   "cell_type": "code",
   "execution_count": 13,
   "metadata": {},
   "outputs": [
    {
     "name": "stdout",
     "output_type": "stream",
     "text": [
      "<class 'pandas.core.frame.DataFrame'>\n",
      "RangeIndex: 9984 entries, 0 to 9983\n",
      "Data columns (total 16 columns):\n",
      "Stan                                      2050 non-null object\n",
      "Cena za miesiąc                           0 non-null float64\n",
      "Typ zabudowy                              7861 non-null object\n",
      "Liczba pięter w budynku                   4931 non-null object\n",
      "Piętro                                    9848 non-null object\n",
      "Miasto                                    9984 non-null object\n",
      "Materiał budynku                          2390 non-null object\n",
      "Price                                     9984 non-null object\n",
      "Powierzchnia w m2                         9983 non-null float64\n",
      "Stan instalacji                           130 non-null object\n",
      "Liczba pokoi                              9906 non-null object\n",
      "Opłaty (czynsz administracyjny, media)    2670 non-null object\n",
      "Czy mieszkanie ma łazienkę?               102 non-null object\n",
      "Miejsce parkingowe                        541 non-null object\n",
      "Dzielnica                                 9983 non-null object\n",
      "Rok budowy                                7012 non-null float64\n",
      "dtypes: float64(3), object(13)\n",
      "memory usage: 1.2+ MB\n"
     ]
    }
   ],
   "source": [
    "data.info()"
   ]
  },
  {
   "cell_type": "code",
   "execution_count": 14,
   "metadata": {},
   "outputs": [
    {
     "name": "stdout",
     "output_type": "stream",
     "text": [
      "<class 'pandas.core.frame.DataFrame'>\n",
      "RangeIndex: 9984 entries, 0 to 9983\n",
      "Data columns (total 16 columns):\n",
      "Stan                                      2050 non-null object\n",
      "Cena za miesiąc                           0 non-null float64\n",
      "Typ zabudowy                              7861 non-null object\n",
      "Liczba pięter w budynku                   4931 non-null object\n",
      "Piętro                                    9848 non-null object\n",
      "Miasto                                    9984 non-null object\n",
      "Materiał budynku                          2390 non-null object\n",
      "Price                                     9984 non-null object\n",
      "Powierzchnia w m2                         9983 non-null float64\n",
      "Stan instalacji                           130 non-null object\n",
      "Liczba pokoi                              9906 non-null object\n",
      "Opłaty (czynsz administracyjny, media)    2670 non-null object\n",
      "Czy mieszkanie ma łazienkę?               102 non-null object\n",
      "Miejsce parkingowe                        541 non-null object\n",
      "Dzielnica                                 9983 non-null object\n",
      "Rok budowy                                7012 non-null float64\n",
      "dtypes: float64(3), object(13)\n",
      "memory usage: 1.2+ MB\n"
     ]
    }
   ],
   "source": [
    "data.info()"
   ]
  },
  {
   "cell_type": "code",
   "execution_count": 15,
   "metadata": {},
   "outputs": [],
   "source": [
    "# usuwam kolune \"cena za miesiąc\" - powód brak danych\n",
    "# usuwam kolumny Stn instalacji, Czy mieszkanie ma łazienkę oraz Miejsce parkingowe - za mała wypełnialność\n",
    "data = data.drop(columns=['Cena za miesiąc','Stan instalacji','Czy mieszkanie ma łazienkę?','Miejsce parkingowe'])"
   ]
  },
  {
   "cell_type": "code",
   "execution_count": 16,
   "metadata": {},
   "outputs": [
    {
     "data": {
      "text/html": [
       "<div>\n",
       "<style scoped>\n",
       "    .dataframe tbody tr th:only-of-type {\n",
       "        vertical-align: middle;\n",
       "    }\n",
       "\n",
       "    .dataframe tbody tr th {\n",
       "        vertical-align: top;\n",
       "    }\n",
       "\n",
       "    .dataframe thead th {\n",
       "        text-align: right;\n",
       "    }\n",
       "</style>\n",
       "<table border=\"1\" class=\"dataframe\">\n",
       "  <thead>\n",
       "    <tr style=\"text-align: right;\">\n",
       "      <th></th>\n",
       "      <th>Powierzchnia w m2</th>\n",
       "      <th>Rok budowy</th>\n",
       "    </tr>\n",
       "  </thead>\n",
       "  <tbody>\n",
       "    <tr>\n",
       "      <td>count</td>\n",
       "      <td>9983.000000</td>\n",
       "      <td>7012.000000</td>\n",
       "    </tr>\n",
       "    <tr>\n",
       "      <td>mean</td>\n",
       "      <td>62.654599</td>\n",
       "      <td>1995.474615</td>\n",
       "    </tr>\n",
       "    <tr>\n",
       "      <td>std</td>\n",
       "      <td>50.409857</td>\n",
       "      <td>31.260790</td>\n",
       "    </tr>\n",
       "    <tr>\n",
       "      <td>min</td>\n",
       "      <td>1.000000</td>\n",
       "      <td>1200.000000</td>\n",
       "    </tr>\n",
       "    <tr>\n",
       "      <td>25%</td>\n",
       "      <td>41.000000</td>\n",
       "      <td>1990.000000</td>\n",
       "    </tr>\n",
       "    <tr>\n",
       "      <td>50%</td>\n",
       "      <td>53.000000</td>\n",
       "      <td>2008.000000</td>\n",
       "    </tr>\n",
       "    <tr>\n",
       "      <td>75%</td>\n",
       "      <td>73.000000</td>\n",
       "      <td>2015.000000</td>\n",
       "    </tr>\n",
       "    <tr>\n",
       "      <td>max</td>\n",
       "      <td>3633.000000</td>\n",
       "      <td>2019.000000</td>\n",
       "    </tr>\n",
       "  </tbody>\n",
       "</table>\n",
       "</div>"
      ],
      "text/plain": [
       "       Powierzchnia w m2   Rok budowy\n",
       "count        9983.000000  7012.000000\n",
       "mean           62.654599  1995.474615\n",
       "std            50.409857    31.260790\n",
       "min             1.000000  1200.000000\n",
       "25%            41.000000  1990.000000\n",
       "50%            53.000000  2008.000000\n",
       "75%            73.000000  2015.000000\n",
       "max          3633.000000  2019.000000"
      ]
     },
     "execution_count": 16,
     "metadata": {},
     "output_type": "execute_result"
    }
   ],
   "source": [
    "data.describe()"
   ]
  },
  {
   "cell_type": "code",
   "execution_count": 17,
   "metadata": {},
   "outputs": [
    {
     "name": "stderr",
     "output_type": "stream",
     "text": [
      "/home/ralph/anaconda3/lib/python3.7/site-packages/sklearn/preprocessing/_encoders.py:380: DeprecationWarning: The 'categorical_features' keyword is deprecated in version 0.20 and will be removed in 0.22. The passed value of 'all' is the default and can simply be removed.\n",
      "  DeprecationWarning)\n",
      "/home/ralph/anaconda3/lib/python3.7/site-packages/sklearn/preprocessing/_encoders.py:380: DeprecationWarning: The 'categorical_features' keyword is deprecated in version 0.20 and will be removed in 0.22. The passed value of 'all' is the default and can simply be removed.\n",
      "  DeprecationWarning)\n"
     ]
    }
   ],
   "source": [
    "data['Typ zabudowy'] = data['Typ zabudowy'].fillna('Nie podano') # zamieniam NaN na jedną wartość\n",
    "ohe = OneHotEncoder(handle_unknown='ignore', categorical_features='all', sparse=False)\n",
    "typ_zabudowy_ohe = ohe.fit_transform(data[data.columns[1]].values.reshape(-1,1))\n",
    "typy_zabudowy = np.unique(data[data.columns[1]].values)\n",
    "i=0\n",
    "for typ_zabudowy in typy_zabudowy:\n",
    "    data[\"typ\"+typ_zabudowy] = typ_zabudowy_ohe[:,i]\n",
    "    i=i+1"
   ]
  },
  {
   "cell_type": "code",
   "execution_count": 44,
   "metadata": {},
   "outputs": [],
   "source": [
    "data = pd.read_csv('Wynajem20190215-19:20.csv',sep='#')\n",
    "# usuwam kolune \"cena za miesiąc\" - powód brak danych\n",
    "# usuwam kolumny Stn instalacji, Czy mieszkanie ma łazienkę oraz Miejsce parkingowe - za mała wypełnialność\n",
    "data = data.drop(columns=['Cena za miesiąc','Stan instalacji','Czy mieszkanie ma łazienkę?','Miejsce parkingowe'])\n",
    "\n",
    "def clean_data_table(data):\n",
    "    #     Zmienna celu, Price - zamieniam na liczbe\n",
    "    data_cleaned['Price'] = data_cleaned['Price'].apply(lambda x: int(x.replace(\" \",\"\"))).astype(int)  \n",
    "\n",
    "    # Powierzchnia - 1 wiersz brakujacych danych - uzupełniam średnią\n",
    "    data['Powierzchnia w m2'] = data['Powierzchnia w m2'].fillna(data['Powierzchnia w m2'].mean())\n",
    "    \n",
    "    # Stan - 2050 niepustych\n",
    "    data['Stan'] = data['Stan'].fillna('Brak') # zamieniam NaN na jedną wartość\n",
    "    state_enc = OneHotEncoder(handle_unknown='ignore', categorical_features='all', sparse=False)\n",
    "    state_end_trans = state_enc.fit_transform(data[data.columns[0]].values.reshape(-1,1)) \n",
    "    states = np.unique(data[data.columns[0]].values)\n",
    "    i=0\n",
    "    for state in states:\n",
    "        data[\"stan_\"+state] = state_end_trans[:,i]\n",
    "        i=i+1\n",
    "        \n",
    "    #Typ zabudowy - 7861 niepustych wierszy - zamieniam za pomocą OHE\n",
    "    data['Typ zabudowy'] = data['Typ zabudowy'].fillna('Brak') # zamieniam NaN na jedną wartość\n",
    "    ohe = OneHotEncoder(handle_unknown='ignore', categorical_features='all', sparse=False)\n",
    "    typ_zabudowy_ohe = ohe.fit_transform(data[data.columns[1]].values.reshape(-1,1))\n",
    "    typy_zabudowy = np.unique(data[data.columns[1]].values)\n",
    "    i=0\n",
    "    for typ_zabudowy in typy_zabudowy:\n",
    "        data[\"typ_zab_\"+typ_zabudowy] = typ_zabudowy_ohe[:,i]\n",
    "        i=i+1\n",
    "    data.drop(columns=['Typ zabudowy'])\n",
    "    return data"
   ]
  },
  {
   "cell_type": "code",
   "execution_count": 47,
   "metadata": {},
   "outputs": [],
   "source": [
    "data_cleaned = clean_data_table(data)"
   ]
  },
  {
   "cell_type": "code",
   "execution_count": 49,
   "metadata": {},
   "outputs": [
    {
     "data": {
      "text/plain": [
       "2684.608974358974"
      ]
     },
     "execution_count": 49,
     "metadata": {},
     "output_type": "execute_result"
    }
   ],
   "source": [
    "# średnia ze wszystkich\n",
    "data_cleaned['Price'].mean()"
   ]
  },
  {
   "cell_type": "code",
   "execution_count": null,
   "metadata": {},
   "outputs": [],
   "source": []
  },
  {
   "cell_type": "code",
   "execution_count": null,
   "metadata": {},
   "outputs": [],
   "source": []
  },
  {
   "cell_type": "code",
   "execution_count": null,
   "metadata": {},
   "outputs": [],
   "source": []
  }
 ],
 "metadata": {
  "kernelspec": {
   "display_name": "Python 3",
   "language": "python",
   "name": "python3"
  },
  "language_info": {
   "codemirror_mode": {
    "name": "ipython",
    "version": 3
   },
   "file_extension": ".py",
   "mimetype": "text/x-python",
   "name": "python",
   "nbconvert_exporter": "python",
   "pygments_lexer": "ipython3",
   "version": "3.7.4"
  }
 },
 "nbformat": 4,
 "nbformat_minor": 2
}
